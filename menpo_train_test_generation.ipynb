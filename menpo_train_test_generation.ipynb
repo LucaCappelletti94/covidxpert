{
 "cells": [
  {
   "cell_type": "code",
   "execution_count": 15,
   "metadata": {},
   "outputs": [],
   "source": [
    "from covidxpert.menpo import extract_menpo_points\n",
    "\n",
    "from glob import glob\n",
    "import os\n",
    "from multiprocessing import Pool, cpu_count\n",
    "import shutil\n",
    "import numpy as np\n",
    "\n",
    "import menpo.io as mio\n",
    "from menpo.image import Image\n",
    "import matplotlib.pyplot as plt\n",
    "\n",
    "from sklearn.model_selection import train_test_split"
   ]
  },
  {
   "cell_type": "code",
   "execution_count": 29,
   "metadata": {},
   "outputs": [],
   "source": [
    "path_masks = glob('all_masks/masks/*')\n",
    "\n",
    "base_path = \"all_masks/images/{}.png\"\n",
    "points_path = \"all_masks/processed/all/{}.pts\"\n",
    "processed_image_path = \"all_masks/processed/all/{}.jpg\"\n",
    "\n",
    "os.makedirs(\"all_masks/processed/all\", exist_ok=True)\n",
    "os.makedirs(\"all_masks/processed/train\", exist_ok=True)\n",
    "os.makedirs(\"all_masks/processed/test\", exist_ok=True)\n",
    "\n",
    "def job_extract_menpo_points(mask_path: str):\n",
    "    base_name = os.path.basename(mask_path).split('.')[0].split('_mask')[0]\n",
    "    image_path = base_path.format(base_name)\n",
    "    point_path = points_path.format(base_name)\n",
    "    proc_path = processed_image_path.format(base_name)\n",
    "    if not os.path.exists(proc_path):\n",
    "        extract_menpo_points(mask_path=mask_path, image_path=image_path, \n",
    "                             save_image_path=proc_path, save_points_path=point_path)\n",
    "        \n",
    "def split_dataset(test_perc:float=0.2, random_state:int=42):\n",
    "    img_list = glob('all_masks/processed/all/*.pts')\n",
    "    path_all = \"all_masks/processed\"\n",
    "    train, test = train_test_split(img_list, test_size=test_perc, random_state=random_state)\n",
    "    for partition, points_set in zip((\"train\", \"test\"), (train, test)):\n",
    "        for points_path in points_set:\n",
    "            base_name = os.path.basename(points_path).split('.')[0]\n",
    "            \n",
    "            src_image_path = f\"{path_all}/all/{base_name}.jpg\"\n",
    "            src_point_path = f\"{path_all}/all/{base_name}.pts\"\n",
    "            \n",
    "            dst_image_path = f\"{path_all}/{partition}/{base_name}.jpg\"\n",
    "            dst_point_path = f\"{path_all}/{partition}/{base_name}.pts\"\n",
    "            \n",
    "            shutil.copy2(src_image_path, dst_image_path)\n",
    "            shutil.copy2(src_point_path, dst_point_path)\n",
    "        "
   ]
  },
  {
   "cell_type": "code",
   "execution_count": 25,
   "metadata": {},
   "outputs": [],
   "source": [
    "with Pool(cpu_count()) as p:\n",
    "    p.map(job_extract_menpo_points, path_masks)\n",
    "    p.close()\n",
    "    p.join()"
   ]
  },
  {
   "cell_type": "code",
   "execution_count": 30,
   "metadata": {},
   "outputs": [],
   "source": [
    "split_dataset()"
   ]
  },
  {
   "cell_type": "code",
   "execution_count": 35,
   "metadata": {},
   "outputs": [
    {
     "data": {
      "text/plain": [
       "(1404, 1122, 282)"
      ]
     },
     "execution_count": 35,
     "metadata": {},
     "output_type": "execute_result"
    }
   ],
   "source": [
    "len(glob('all_masks/processed/all/*')), len(glob('all_masks/processed/train/*')), len(glob('all_masks/processed/test/*'))"
   ]
  }
 ],
 "metadata": {
  "kernelspec": {
   "display_name": "Python 3",
   "language": "python",
   "name": "python3"
  },
  "language_info": {
   "codemirror_mode": {
    "name": "ipython",
    "version": 3
   },
   "file_extension": ".py",
   "mimetype": "text/x-python",
   "name": "python",
   "nbconvert_exporter": "python",
   "pygments_lexer": "ipython3",
   "version": "3.7.6"
  }
 },
 "nbformat": 4,
 "nbformat_minor": 4
}
