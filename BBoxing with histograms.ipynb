{
 "cells": [
  {
   "cell_type": "code",
   "execution_count": 1,
   "metadata": {},
   "outputs": [
    {
     "ename": "ModuleNotFoundError",
     "evalue": "No module named 'covidxpert.perspective_correction.add_padding'",
     "output_type": "error",
     "traceback": [
      "\u001b[1;31m---------------------------------------------------------------------------\u001b[0m",
      "\u001b[1;31mModuleNotFoundError\u001b[0m                       Traceback (most recent call last)",
      "\u001b[1;32m<ipython-input-1-8f569e975299>\u001b[0m in \u001b[0;36m<module>\u001b[1;34m\u001b[0m\n\u001b[0;32m      4\u001b[0m \u001b[1;32mimport\u001b[0m \u001b[0mnumpy\u001b[0m \u001b[1;32mas\u001b[0m \u001b[0mnp\u001b[0m\u001b[1;33m\u001b[0m\u001b[1;33m\u001b[0m\u001b[0m\n\u001b[0;32m      5\u001b[0m \u001b[1;32mfrom\u001b[0m \u001b[0mcovidxpert\u001b[0m \u001b[1;32mimport\u001b[0m \u001b[0mload_image\u001b[0m\u001b[1;33m,\u001b[0m \u001b[0mperspective_correction\u001b[0m\u001b[1;33m\u001b[0m\u001b[1;33m\u001b[0m\u001b[0m\n\u001b[1;32m----> 6\u001b[1;33m \u001b[1;32mfrom\u001b[0m \u001b[0mcovidxpert\u001b[0m\u001b[1;33m.\u001b[0m\u001b[0mperspective_correction\u001b[0m\u001b[1;33m.\u001b[0m\u001b[0madd_padding\u001b[0m \u001b[1;32mimport\u001b[0m \u001b[0madd_padding\u001b[0m\u001b[1;33m\u001b[0m\u001b[1;33m\u001b[0m\u001b[0m\n\u001b[0m\u001b[0;32m      7\u001b[0m \u001b[1;32mfrom\u001b[0m \u001b[0mscipy\u001b[0m\u001b[1;33m.\u001b[0m\u001b[0msignal\u001b[0m \u001b[1;32mimport\u001b[0m \u001b[0mfind_peaks\u001b[0m\u001b[1;33m\u001b[0m\u001b[1;33m\u001b[0m\u001b[0m\n",
      "\u001b[1;31mModuleNotFoundError\u001b[0m: No module named 'covidxpert.perspective_correction.add_padding'"
     ]
    }
   ],
   "source": [
    "import cv2\n",
    "from glob import glob\n",
    "import matplotlib.pyplot as plt\n",
    "import numpy as np\n",
    "from covidxpert import load_image, perspective_correction\n",
    "from covidxpert.perspective_correction.add_padding import add_padding\n",
    "from scipy.signal import find_peaks"
   ]
  },
  {
   "cell_type": "code",
   "execution_count": null,
   "metadata": {},
   "outputs": [],
   "source": [
    "def get_kernel_size(image:np.ndarray)->int:\n",
    "    kernel_size = int(min(image.shape) / 5)\n",
    "    \n",
    "    if kernel_size % 2 == 0:\n",
    "        kernel_size += 1\n",
    "        \n",
    "    return kernel_size"
   ]
  },
  {
   "cell_type": "code",
   "execution_count": null,
   "metadata": {},
   "outputs": [],
   "source": [
    "def apply_mean_blur(image:np.ndarray)->np.ndarray:\n",
    "    return cv2.medianBlur(image, get_kernel_size(image))"
   ]
  },
  {
   "cell_type": "code",
   "execution_count": null,
   "metadata": {},
   "outputs": [],
   "source": [
    "def apply_median_threshold(image:np.ndarray)->np.ndarray:\n",
    "    return cv2.threshold(image, np.median(image)/2, 255, cv2.THRESH_BINARY)[1]"
   ]
  },
  {
   "cell_type": "code",
   "execution_count": null,
   "metadata": {},
   "outputs": [],
   "source": [
    "def trim_padding(image:np.ndarray, padding:int)->np.ndarray:\n",
    "    return image[padding:-padding, padding:-padding]"
   ]
  },
  {
   "cell_type": "code",
   "execution_count": null,
   "metadata": {},
   "outputs": [],
   "source": [
    "def count_from_left_side(mask:np.ndarray):\n",
    "    counter = 0\n",
    "    for boolean in mask:\n",
    "        if boolean:\n",
    "            counter += 1\n",
    "        else:\n",
    "            break\n",
    "    return counter"
   ]
  },
  {
   "cell_type": "code",
   "execution_count": null,
   "metadata": {},
   "outputs": [],
   "source": [
    "def count_from_right_side(mask:np.ndarray):\n",
    "    return count_from_left_side(np.flip(mask, axis=0))"
   ]
  },
  {
   "cell_type": "code",
   "execution_count": null,
   "metadata": {},
   "outputs": [],
   "source": [
    "def build_slice(left:int, right:int, maximum:int):\n",
    "    return slice(left, maximum if right==0 else right)"
   ]
  },
  {
   "cell_type": "code",
   "execution_count": null,
   "metadata": {},
   "outputs": [],
   "source": [
    "def strip_black(image:np.ndarray, mask:np.ndarray, v_threshold:float, h_threshold:float)->np.ndarray:\n",
    "    vertical_mask = mask.mean(axis=1) < v_threshold\n",
    "    horizzontal_mask = mask.mean(axis=0) < h_threshold\n",
    "    \n",
    "    h_slice = build_slice(\n",
    "        count_from_left_side(horizzontal_mask),\n",
    "        -count_from_right_side(horizzontal_mask),\n",
    "        image.shape[1]\n",
    "    )\n",
    "    v_slice = build_slice(\n",
    "        count_from_left_side(vertical_mask),\n",
    "        -count_from_right_side(vertical_mask),\n",
    "        image.shape[0]\n",
    "    )\n",
    "    return image[v_slice, h_slice]"
   ]
  },
  {
   "cell_type": "code",
   "execution_count": null,
   "metadata": {},
   "outputs": [],
   "source": [
    "def compute_median_threshold(mask:np.ndarray)->float:\n",
    "    masked_mask = strip_black(mask, mask, 0, 0)\n",
    "    v_white_median = np.median(masked_mask.mean(axis=0))\n",
    "    h_white_median = np.median(masked_mask.mean(axis=1))\n",
    "    return v_white_median/2, h_white_median/2"
   ]
  },
  {
   "cell_type": "code",
   "execution_count": null,
   "metadata": {},
   "outputs": [],
   "source": [
    "def normalize_image(image:np.ndarray)->np.ndarray:\n",
    "    return np.uint8(((image - image.min()) / (image.max() - image.min()))*255)"
   ]
  },
  {
   "cell_type": "code",
   "execution_count": null,
   "metadata": {},
   "outputs": [],
   "source": [
    "def remove_artefacts(image:np.ndarray, sigma_1:float=0.3, sigma_2:float=15)->np.ndarray:\n",
    "    blur = cv2.GaussianBlur(image, (5,5), sigma_2, sigma_2).astype(float)\n",
    "    result = image - blur\n",
    "    result = normalize_image(image)\n",
    "    result = cv2.threshold(result, np.median(result), 255, cv2.THRESH_BINARY)[1]\n",
    "    nb_components, output, stats, centroids = cv2.connectedComponentsWithStats(result, connectivity=8)\n",
    "    sizes = stats[1:, -1]\n",
    "    area = result.shape[0]*result.shape[1]\n",
    "    artefacts = np.zeros(result.shape, dtype=bool)\n",
    "    \n",
    "    for i, size in enumerate(sizes):\n",
    "        if size < area/10:\n",
    "            artefacts |= output==i+1\n",
    "    \n",
    "    kernel = np.ones((3,3),np.uint8)\n",
    "\n",
    "    artefacts = cv2.dilate(artefacts.astype(np.uint8), kernel).astype(bool)\n",
    "\n",
    "    cleared_image = image.copy()\n",
    "    cleared_image[artefacts]=0\n",
    "\n",
    "    return cleared_image, artefacts"
   ]
  },
  {
   "cell_type": "code",
   "execution_count": null,
   "metadata": {},
   "outputs": [],
   "source": [
    "def get_blur_mask(image:np.ndarray, padding:int):\n",
    "    blurred = add_padding(image, padding)\n",
    "    blurred, _ = remove_artefacts(blurred)\n",
    "    blurred = apply_mean_blur(blurred)\n",
    "    blurred = apply_median_threshold(blurred)\n",
    "    return trim_padding(blurred, padding)"
   ]
  },
  {
   "cell_type": "code",
   "execution_count": null,
   "metadata": {},
   "outputs": [],
   "source": [
    "def blur_bbox(image:np.ndarray, padding:int=50)->np.ndarray:\n",
    "    mask = get_blur_mask(image, padding)\n",
    "    return strip_black(image, mask, *compute_median_threshold(mask))"
   ]
  },
  {
   "cell_type": "code",
   "execution_count": null,
   "metadata": {},
   "outputs": [],
   "source": [
    "paths = glob(\"tests/test_images/*.jpg\")"
   ]
  },
  {
   "cell_type": "code",
   "execution_count": null,
   "metadata": {},
   "outputs": [],
   "source": [
    "from skimage.morphology import disk\n",
    "from skimage.filters import rank"
   ]
  },
  {
   "cell_type": "code",
   "execution_count": null,
   "metadata": {
    "scrolled": false
   },
   "outputs": [],
   "source": [
    "for path in paths:\n",
    "    original = load_image(path)\n",
    "    image = perspective_correction(original)\n",
    "    cleared_image, artefacts = remove_artefacts(image)\n",
    "    bboxed = blur_bbox(image)\n",
    "    \n",
    "    fig, axes = plt.subplots(ncols=5, figsize=(25, 5))\n",
    "    axes[0].imshow(original, cmap=\"gray\")\n",
    "    axes[1].imshow(artefacts, cmap=\"gray\")\n",
    "    axes[2].imshow(cleared_image, cmap=\"gray\")\n",
    "    axes[3].imshow(image, cmap=\"gray\")\n",
    "    axes[4].imshow(bboxed, cmap=\"gray\")\n",
    "    plt.show()"
   ]
  }
 ],
 "metadata": {
  "kernelspec": {
   "display_name": "Python 3",
   "language": "python",
   "name": "python3"
  },
  "language_info": {
   "codemirror_mode": {
    "name": "ipython",
    "version": 3
   },
   "file_extension": ".py",
   "mimetype": "text/x-python",
   "name": "python",
   "nbconvert_exporter": "python",
   "pygments_lexer": "ipython3",
   "version": "3.7.4"
  }
 },
 "nbformat": 4,
 "nbformat_minor": 2
}
